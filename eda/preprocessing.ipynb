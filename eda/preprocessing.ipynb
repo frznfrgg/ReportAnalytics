{
 "cells": [
  {
   "cell_type": "code",
   "execution_count": null,
   "id": "84104f1c",
   "metadata": {},
   "outputs": [],
   "source": [
    "import pandas as pd\n",
    "\n",
    "pd.set_option(\"display.max_columns\", None)"
   ]
  },
  {
   "cell_type": "code",
   "execution_count": null,
   "id": "a7535b6b",
   "metadata": {},
   "outputs": [],
   "source": [
    "table_path = \"../raw_docs/done_EMBA-35. Exit Survey.xlsx\"\n",
    "raw_data = pd.read_excel(table_path, skiprows=[0, 2, 3], sheet_name=\"Raw data\")\n",
    "processed_data = pd.read_excel(table_path, skiprows=[0, 2, 3], sheet_name=\"edited\")"
   ]
  },
  {
   "cell_type": "code",
   "execution_count": null,
   "id": "b331d185",
   "metadata": {},
   "outputs": [],
   "source": [
    "processed_data.head(3)"
   ]
  },
  {
   "cell_type": "markdown",
   "id": "b65dcd49",
   "metadata": {},
   "source": [
    "#### Converting table to a desired structure"
   ]
  },
  {
   "cell_type": "code",
   "execution_count": null,
   "id": "ef015f55",
   "metadata": {},
   "outputs": [],
   "source": [
    "service_cols = [col for col in raw_data.columns if col.startswith(\"S\")]\n",
    "unnamed_cols = [col for col in raw_data.columns if col.startswith(\"Unnamed:\")]\n",
    "cols_to_drop = [\"PS0 Start\", \"PD0 Duration , sec\"] + service_cols + unnamed_cols"
   ]
  },
  {
   "cell_type": "code",
   "execution_count": null,
   "id": "96073df1",
   "metadata": {},
   "outputs": [],
   "source": [
    "raw_data = raw_data.drop(columns=cols_to_drop)\n",
    "processed_data = processed_data.drop(columns=cols_to_drop)"
   ]
  },
  {
   "cell_type": "code",
   "execution_count": null,
   "id": "1e36fc90",
   "metadata": {},
   "outputs": [],
   "source": [
    "# drop all rows where participant name is None\n",
    "name_col = \"Q16  - 🔴 Укажите  фамилию и имя\"\n",
    "raw_data = raw_data.dropna(subset=[name_col], ignore_index=True)"
   ]
  },
  {
   "cell_type": "code",
   "execution_count": null,
   "id": "232b794f",
   "metadata": {},
   "outputs": [],
   "source": [
    "# replace professors names with their standard form (block Q6)\n",
    "q6_cols = [col for col in raw_data.columns if col.startswith(\"Q6\")]\n",
    "raw_data[q6_cols] = processed_data[q6_cols]"
   ]
  },
  {
   "cell_type": "markdown",
   "id": "e1926091",
   "metadata": {},
   "source": [
    "#### Filling Nans"
   ]
  },
  {
   "cell_type": "code",
   "execution_count": null,
   "id": "f5ec70f2",
   "metadata": {},
   "outputs": [],
   "source": [
    "raw_data.isna().sum()"
   ]
  },
  {
   "cell_type": "code",
   "execution_count": null,
   "id": "fdb933c6",
   "metadata": {},
   "outputs": [],
   "source": [
    "raw_data[q6_cols] = raw_data[q6_cols].fillna(\n",
    "    0\n",
    ")  # if a student doesnt remember any professors\n",
    "\n",
    "age_col = \"Q15 🔴  Укажите ваш  возраст\"\n",
    "raw_data[age_col] = raw_data[age_col].fillna(\n",
    "    raw_data[age_col].median()\n",
    ")  # if the age was not provided fill with mode\n",
    "\n",
    "score_cols = [\n",
    "    col\n",
    "    for col in raw_data.columns\n",
    "    if col.startswith(\"Q7\") or col.startswith(\"Q8\") or col.startswith(\"Q9\")\n",
    "]\n",
    "for col in score_cols:\n",
    "    raw_data[col] = raw_data[col].fillna(\n",
    "        int(raw_data[col].mean())\n",
    "    )  # if a value in scoring col is missing, replace by the mean\n",
    "\n",
    "free_answer_cols = [\n",
    "    \"Q4.1 Каковы, на ваш взгляд,  сильные и слабые стороны программы? - Сильные стороны\",\n",
    "    \"Q4.2 Каковы, на ваш взгляд,  сильные и слабые стороны программы? - Слабые стороны\",\n",
    "    \"Q10 Оставьте ваши  пожелания и дополнительные комментарии  по программе\",\n",
    "    \"Q10 Оставьте ваши  пожелания и дополнительные комментарии  по программе\",\n",
    "    \"Q11.1.O В качестве приглашенного спикера - брендинг, корпфин\",\n",
    "    \"Q11.5.O Другое - протагонист кейса\",\n",
    "    \"Q13.6.O Другое - Other\",\n",
    "    \"Q14.20.O Другое - Other\",\n",
    "]\n",
    "for col in free_answer_cols:\n",
    "    raw_data[col] = raw_data[col].fillna(\n",
    "        \"No comments\"\n",
    "    )  # set to \"No comments\" if the answer wasnt provided in cols with free answer\n",
    "\n",
    "raw_data.isna().any().any()"
   ]
  },
  {
   "cell_type": "markdown",
   "id": "4e11b1b2",
   "metadata": {},
   "source": [
    "#### Save the results"
   ]
  },
  {
   "cell_type": "code",
   "execution_count": null,
   "id": "6bf6e621",
   "metadata": {},
   "outputs": [],
   "source": [
    "raw_data.head(3)"
   ]
  },
  {
   "cell_type": "code",
   "execution_count": null,
   "id": "1c25d19c",
   "metadata": {},
   "outputs": [],
   "source": [
    "raw_data.to_excel(\"../artifacts/processed.xlsx\", index=False)"
   ]
  },
  {
   "cell_type": "code",
   "execution_count": null,
   "id": "a26dcfaf",
   "metadata": {},
   "outputs": [],
   "source": []
  }
 ],
 "metadata": {
  "kernelspec": {
   "display_name": "skolkovo",
   "language": "python",
   "name": "python3"
  },
  "language_info": {
   "codemirror_mode": {
    "name": "ipython",
    "version": 3
   },
   "file_extension": ".py",
   "mimetype": "text/x-python",
   "name": "python",
   "nbconvert_exporter": "python",
   "pygments_lexer": "ipython3",
   "version": "3.10.18"
  }
 },
 "nbformat": 4,
 "nbformat_minor": 5
}
